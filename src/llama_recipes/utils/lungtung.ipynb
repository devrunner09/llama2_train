{
 "cells": [
  {
   "cell_type": "code",
   "execution_count": null,
   "metadata": {},
   "outputs": [],
   "source": [
    "dataset_config = {\n",
    "    \"dataset\" : \"alpaca_dataset\",\n",
    "    \"train_split\" : \"train\",\n",
    "    \"test_split\" : \"val\",\n",
    "    \"data_path\" : \"/workdir/llama-recipes/src/llama_recipes/datasets/vi-sample.json\"\n",
    "}"
   ]
  },
  {
   "cell_type": "code",
   "execution_count": null,
   "metadata": {},
   "outputs": [],
   "source": [
    "dataset_val = get_preprocessed_dataset(\n",
    "        tokenizer,\n",
    "        dataset_config,\n",
    "        split=\"test\",\n",
    "    )"
   ]
  }
 ],
 "metadata": {
  "kernelspec": {
   "display_name": "llm_kernel",
   "language": "python",
   "name": "llm_kernel"
  },
  "language_info": {
   "name": "python",
   "version": "3.10.13"
  }
 },
 "nbformat": 4,
 "nbformat_minor": 2
}
